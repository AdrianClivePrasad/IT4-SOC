{
 "cells": [
  {
   "cell_type": "code",
   "execution_count": 4,
   "id": "57379c1b-5b24-46eb-bae9-1bec72864d50",
   "metadata": {},
   "outputs": [
    {
     "name": "stdout",
     "output_type": "stream",
     "text": [
      "     sky airTemp humidity    wind water forecast enjoySport\n",
      "0  sunny    warm   normal  strong  warm     same        yes\n",
      "1  sunny    warm     high  strong  warm     same        yes\n",
      "2  rainy    cold     high  strong  warm   change         no\n",
      "3  sunny    warm     high  strong  cool   change        yes\n",
      "\n",
      "\n",
      "The positive Hypotheses are\n",
      "[['sunny', 'warm', 'normal', 'strong', 'warm', 'same'], ['sunny', 'warm', 'high', 'strong', 'warm', 'same'], ['sunny', 'warm', 'high', 'strong', 'cool', 'change']]\n",
      "\n",
      "\n",
      "The negative Hypotheses are\n",
      "[['rainy', 'cold', 'high', 'strong', 'warm', 'change']]\n",
      "\n",
      "\n",
      "The Maximally Specific Hypothesis h is\n",
      "['sunny', 'warm', '?', 'strong', '?', '?']\n"
     ]
    }
   ],
   "source": [
    "import pandas as pd    #Pandas must be installed.Pandas used for reading data from .csv file. \n",
    "data = pd.read_csv('cyberincident.csv')#ensure csv file exists in the same folder as the python code.\n",
    "columnLength= data.shape[1] #obtain number of columns\n",
    "rowLength=data.shape[0] #obtain number of rows\n",
    "print (data) #print the table\n",
    "h=['0','0','0','0','0','0'] #nitialize  h to the most specific hypothesis in the Hypotheses Space H\n",
    "hp=[] #nitialize list hp i.e list of hypotheses for positive training examples\n",
    "hn=[] #nitialize list hn i.e list of hypotheses for all negative training examples\n",
    "\n",
    "for i in range(rowLength):\t\t\t #his loop is used to build the hypothesis list for every row.\n",
    "\ttrainingExample=[]\t\t\t#initialize list trainingExample used to hold a hypothesis after fetching it from .csv file\n",
    "\ttrainingExample.append(data.sky[i])\t\t\t# every column value for a row is fetched and appended to trainingExample\n",
    "\ttrainingExample.append(data.airTemp[i])\n",
    "\ttrainingExample.append(data.humidity[i])\n",
    "\ttrainingExample.append(data.wind[i])\n",
    "\ttrainingExample.append(data.water[i])\n",
    "\ttrainingExample.append(data.forecast[i])\n",
    "\tif data.enjoySport[i]!='no':\t#if the trainingExample is positive, then it is appended to hp else to hn\n",
    "\t\thp.append(trainingExample)\n",
    "\telse:\n",
    "\t\thn.append(trainingExample)\n",
    "for i in range (len(hp)):\t\t\t#update the hypothesis h from most specific to maximally specific\n",
    "\tfor j in range(columnLength-1):\t#if the hypothesis attribute value is 0, it is updated to the attributes in the first hypothesis\n",
    "\t\tif (h[j]=='0'):\t\t\t\t\n",
    "\t\t\th[j]=hp[i][j]\t\t\t\n",
    "\t\tif (h[j]!=hp[i][j]):\t#if the attribute value in the hypothesis is not same as the attribute value in the successive hypotheses\n",
    "\t\t\th[j]='?'\t\t\t#then it is updated to '?' indicating that any value is acceptable.\n",
    "\t\telse:\t\t\t\t#if the attribute in the hypothesis is the same as the attribute value in the successive hypotheses\n",
    "\t\t\th[j]=hp[i][j]\t\t#then the same attribute value is retained\n",
    "print('\\n')\n",
    "print('The positive Hypotheses are')\t\t\t\n",
    "print(hp)\n",
    "\n",
    "print('\\n')\n",
    "print('The negative Hypotheses are')\t\t\t\n",
    "print(hn)\n",
    "\t\t\t\n",
    "print('\\n')\n",
    "print('The Maximally Specific Hypothesis h is')\t\t\t\n",
    "print(h)"
   ]
  },
  {
   "cell_type": "code",
   "execution_count": null,
   "id": "4f407946-e000-4bf5-8982-e72d10176521",
   "metadata": {},
   "outputs": [],
   "source": []
  }
 ],
 "metadata": {
  "kernelspec": {
   "display_name": "Python 3 (ipykernel)",
   "language": "python",
   "name": "python3"
  },
  "language_info": {
   "codemirror_mode": {
    "name": "ipython",
    "version": 3
   },
   "file_extension": ".py",
   "mimetype": "text/x-python",
   "name": "python",
   "nbconvert_exporter": "python",
   "pygments_lexer": "ipython3",
   "version": "3.10.7"
  }
 },
 "nbformat": 4,
 "nbformat_minor": 5
}
